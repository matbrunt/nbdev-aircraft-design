{
 "cells": [
  {
   "cell_type": "code",
   "execution_count": 68,
   "metadata": {},
   "outputs": [],
   "source": [
    "from dataclasses import dataclass\n",
    "import math"
   ]
  },
  {
   "attachments": {},
   "cell_type": "markdown",
   "metadata": {},
   "source": [
    "A.2.2 Atmospheric Properties for aPressure and Density below 11,000 m (36,089 ft)\n",
    "As a function of altitude $h$ (ft or m).\n",
    "\n",
    "## 16.2 Atmospheric Modeling\n",
    "See appendix A for a more detailed atmosphere model based on US Standard Atmosphere 1976, extending up to approximately 85Km (280,000ft).\n",
    "\n",
    "Ratios are a fraction of their reference values, e.g. temperature ratio is a fraction of the reference temperature ($518.67\\degree{R}$)\n",
    "\n",
    "$a$ = lapse rate\n",
    "\n",
    "$h$ = altitude in ft or m\n",
    "\n",
    "$h_0$ = reference altitude $h_0$\n",
    "\n",
    "$T$ = temperature at altitude $h$\n",
    "\n",
    "$T_0$ = temperature at reference altitude $h_0$\n",
    "\n",
    "$p_0$ = reference sea level pressure\n",
    "\n",
    "$\\rho_0$ = reference sea level density\n",
    "\n",
    "$k$ = lapse rate constant = $\\frac{a}{T_0}$ (from table 16.2)\n",
    "\n",
    "---\n",
    "\n",
    "**16.1; Temperature**: $T = T_0 + a(h - h_0)$\n",
    "\n",
    "**16.2; Temperature (alternative)**: $T = T_0 (1 + k \\cdot h)$"
   ]
  },
  {
   "cell_type": "code",
   "execution_count": 82,
   "metadata": {},
   "outputs": [],
   "source": [
    "# table 16.2\n",
    "# UK System\n",
    "LAPSE_RATE_FT = -0.0000068756  # ratio R per foot $/ft$\n",
    "LAPSE_RATE_M = -0.000022558\n",
    "\n",
    "REFERENCE_TEMP_degR = 518.67  # $\\degree{R}$\n",
    "REFERENCE_TEMP_degK = 288.15\n",
    "\n",
    "def eq16_2_isa_temp_at_alt(altitude_ft: float) -> float:\n",
    "    \"\"\"\n",
    "    Returns ISA temperate (deg R) at altitude (ft).\n",
    "    16.2.1 Change in air temperature with altitude can be approximated with a linear function.\n",
    "\n",
    "    Returns: T $\\degree{R}$\n",
    "    \"\"\"\n",
    "    return REFERENCE_TEMP_degR * (1 + LAPSE_RATE_FT * altitude_ft)\n",
    "\n",
    "# ISA temperature at 8500ft\n",
    "assert round(eq16_2_isa_temp_at_alt(8500), 1) == 488.4"
   ]
  },
  {
   "cell_type": "code",
   "execution_count": 80,
   "metadata": {},
   "outputs": [],
   "source": [
    "def eq16_14_temp_r_at_alt(altitude_ft: float) -> float:\n",
    "    \"\"\"\n",
    "    Returns temperature in degrees Rankine using UK system\n",
    "    \"\"\"\n",
    "    return REFERENCE_TEMP_degR * (1 + LAPSE_RATE_FT * altitude_ft)\n",
    "\n",
    "assert round(eq16_14_temp_r_at_alt(8500), 1) == 488.4\n",
    "\n",
    "def eq16_14_temp_f_at_alt(altitude_ft: float) -> float:\n",
    "    \"\"\"\n",
    "    Returns temperature in degrees Fahrenheit using UK system\n",
    "    \"\"\"\n",
    "    return eq16_14_temp_r_at_alt(altitude_ft) - 459.67\n",
    "\n",
    "assert round(eq16_14_temp_f_at_alt(8500), 1) == 28.7"
   ]
  },
  {
   "cell_type": "code",
   "execution_count": 86,
   "metadata": {},
   "outputs": [
    {
     "data": {
      "text/plain": [
       "232.89925455"
      ]
     },
     "metadata": {},
     "output_type": "display_data"
    },
    {
     "data": {
      "text/plain": [
       "-40.25074544999998"
      ]
     },
     "metadata": {},
     "output_type": "display_data"
    }
   ],
   "source": [
    "def eq16_15_temp_k_at_alt(altitude_m: float) -> float:\n",
    "    \"\"\"\n",
    "    Returns temperature in degrees Kelvin using SI system\n",
    "    \"\"\"\n",
    "    return REFERENCE_TEMP_degK * (1 + LAPSE_RATE_M * altitude_m)\n",
    "\n",
    "display(eq16_15_temp_k_at_alt(8500))\n",
    "\n",
    "def eq16_15_temp_c_at_alt(altitude_m: float) -> float:\n",
    "    \"\"\"\n",
    "    Returns temperature in degrees Celsius using SI system\n",
    "    \"\"\"\n",
    "    return eq16_15_temp_k_at_alt(altitude_m) - 273.15\n",
    "\n",
    "display(eq16_15_temp_c_at_alt(8500))"
   ]
  },
  {
   "attachments": {},
   "cell_type": "markdown",
   "metadata": {},
   "source": [
    "**16.3; Pressure**: $p = p_0 (1 + k \\cdot h)^{5.2561}$"
   ]
  },
  {
   "cell_type": "code",
   "execution_count": 87,
   "metadata": {},
   "outputs": [
    {
     "data": {
      "text/plain": [
       "1541.8844692196985"
      ]
     },
     "metadata": {},
     "output_type": "display_data"
    },
    {
     "data": {
      "text/plain": [
       "10.70720717897649"
      ]
     },
     "metadata": {},
     "output_type": "display_data"
    }
   ],
   "source": [
    "REFERENCE_SEA_LEVEL_PRESSURE_SQFT = 2116\n",
    "REFERENCE_SEA_LEVEL_PRESSURE_IN = 14.694\n",
    "\n",
    "def eq16_3_isa_pressure_at_alt(altitude_ft: float) -> float:\n",
    "    \"\"\"\n",
    "    Returns pressure (psf) on a standard day using the UK system\n",
    "    \"\"\"\n",
    "    return REFERENCE_SEA_LEVEL_PRESSURE_SQFT * (1 + LAPSE_RATE_FT * altitude_ft) ** 5.2561\n",
    "\n",
    "assert round(eq16_3_isa_pressure_at_alt(8500)) == 1542, f\"p should be 1542 psf\"\n",
    "\n",
    "def eq16_16_pressure_psf_at_alt(altitude_ft: float) -> float:\n",
    "    \"\"\"\n",
    "    Returns pressure (psf) using UK system\n",
    "    \"\"\"\n",
    "    return REFERENCE_SEA_LEVEL_PRESSURE_SQFT * (1 + LAPSE_RATE_FT * altitude_ft) ** 5.2561\n",
    "\n",
    "display(eq16_16_pressure_psf_at_alt(8500))\n",
    "\n",
    "def eq16_16_pressure_psi_at_alt(altitude_ft: float) -> float:\n",
    "    \"\"\"\n",
    "    Returns pressure (psi) using UK system\n",
    "    \"\"\"\n",
    "    return REFERENCE_SEA_LEVEL_PRESSURE_IN * (1 + LAPSE_RATE_FT * altitude_ft) ** 5.2561\n",
    "\n",
    "display(eq16_16_pressure_psi_at_alt(8500))"
   ]
  },
  {
   "cell_type": "code",
   "execution_count": 88,
   "metadata": {},
   "outputs": [
    {
     "data": {
      "text/plain": [
       "33096.90669573178"
      ]
     },
     "metadata": {},
     "output_type": "display_data"
    },
    {
     "data": {
      "text/plain": [
       "330.96906695731775"
      ]
     },
     "metadata": {},
     "output_type": "display_data"
    }
   ],
   "source": [
    "REFERENCE_SEA_LEVEL_PRESSURE_PA = 101325\n",
    "REFERENCE_SEA_LEVEL_PRESSURE_MBAR = REFERENCE_SEA_LEVEL_PRESSURE_PA / 100\n",
    "\n",
    "def eq16_17_pressure_pa_at_alt(altitude_m: float) -> float:\n",
    "    \"\"\"\n",
    "    Returns pressure (Pa) using SI system\n",
    "    \"\"\"\n",
    "    return REFERENCE_SEA_LEVEL_PRESSURE_PA * (1 + LAPSE_RATE_M * altitude_m) ** 5.2561\n",
    "\n",
    "display(eq16_17_pressure_pa_at_alt(8500))\n",
    "\n",
    "def eq16_17_pressure_mbar_at_alt(altitude_m: float) -> float:\n",
    "    \"\"\"\n",
    "    Returns pressure (Pa) using SI system\n",
    "    \"\"\"\n",
    "    return REFERENCE_SEA_LEVEL_PRESSURE_MBAR * (1 + LAPSE_RATE_M * altitude_m) ** 5.2561\n",
    "\n",
    "display(eq16_17_pressure_mbar_at_alt(8500))"
   ]
  },
  {
   "attachments": {},
   "cell_type": "markdown",
   "metadata": {},
   "source": [
    "**16.4; Density**: $\\rho = \\rho_0 (1 + k \\cdot h)^{4.2561}$"
   ]
  },
  {
   "cell_type": "code",
   "execution_count": 96,
   "metadata": {},
   "outputs": [
    {
     "data": {
      "text/plain": [
       "0.49505950967420875"
      ]
     },
     "metadata": {},
     "output_type": "display_data"
    }
   ],
   "source": [
    "REFERENCE_SEA_LEVEL_DENSITY_SLUGS_FT3 = 0.002378\n",
    "REFERENCE_SEA_LEVEL_DENSITY_KG_M = 1.225\n",
    "def eq16_4_isa_density_at_alt(altitude_ft: float) -> float:\n",
    "    \"\"\"\n",
    "    Returns density (slugs/ft^3) on a standard day using the UK system\n",
    "    \"\"\"\n",
    "    return REFERENCE_SEA_LEVEL_DENSITY_SLUGS_FT3 * (1 + LAPSE_RATE_FT * altitude_ft) ** 4.2561\n",
    "\n",
    "assert round(eq16_4_isa_density_at_alt(8500), 6) == 0.001840\n",
    "\n",
    "def eq16_18_density_slugs_ft_at_alt(altitude_ft: float) -> float:\n",
    "    \"\"\"\n",
    "    Returns density (slugs / ft^3) using UK system\n",
    "    \"\"\"\n",
    "    return REFERENCE_SEA_LEVEL_DENSITY_SLUGS_FT3 * (1 + LAPSE_RATE_FT * altitude_ft) ** 4.2561\n",
    "\n",
    "assert round(eq16_18_density_slugs_ft_at_alt(8500), 6) == 0.001840\n",
    "\n",
    "def eq16_19_density_kg_m_at_alt(altitude_m: float) -> float:\n",
    "    \"\"\"\n",
    "    Returns density (kg / m^3) using SI system\n",
    "    \"\"\"\n",
    "    return REFERENCE_SEA_LEVEL_DENSITY_KG_M * (1 + LAPSE_RATE_M * altitude_m) ** 4.2561\n",
    "\n",
    "display(eq16_19_density_kg_m_at_alt(8500))"
   ]
  },
  {
   "attachments": {},
   "cell_type": "markdown",
   "metadata": {},
   "source": [
    "**16.5; Temperature ratio**: $\\theta = \\frac{T}{T_0} = (1 - 0.0000068756h)$"
   ]
  },
  {
   "cell_type": "code",
   "execution_count": 89,
   "metadata": {},
   "outputs": [],
   "source": [
    "def eq16_5_isa_temp_ratio_at_alt(altitude_ft: float) -> float:\n",
    "    \"\"\"\n",
    "    Returns temperature ratio against reference temperature on a standard day using the UK system\n",
    "    \"\"\"\n",
    "    return 1 + LAPSE_RATE_FT * altitude_ft\n",
    "\n",
    "assert round(eq16_5_isa_temp_ratio_at_alt(8500), 4) == 0.9416"
   ]
  },
  {
   "attachments": {},
   "cell_type": "markdown",
   "metadata": {},
   "source": [
    "**16.6; Pressure ratio**: $\\delta = \\frac{p}{p_0} = (1 - 0.0000068756h)^{5.2561} = \\theta^{5.2561} = \\sigma^{1.235}$"
   ]
  },
  {
   "cell_type": "code",
   "execution_count": 90,
   "metadata": {},
   "outputs": [],
   "source": [
    "def eq16_6_isa_press_ratio_at_alt(altitude_ft: float) -> float:\n",
    "    \"\"\"\n",
    "    Returns pressure ratio against reference altitude on a standard day using the UK system\n",
    "    \"\"\"\n",
    "    return eq16_5_isa_temp_ratio_at_alt(altitude_ft) ** 5.2561\n",
    "\n",
    "assert round(eq16_6_isa_press_ratio_at_alt(8500), 4) == 0.7287"
   ]
  },
  {
   "cell_type": "markdown",
   "metadata": {},
   "source": [
    "**16.7; Density ratio**: $\\sigma = \\frac{\\rho}{\\rho_0} = (1 - 0.0000068756h)^{4.2561} = \\theta^{4.2561} = \\frac{\\delta}{\\theta} = \\delta^{0.8097}$"
   ]
  },
  {
   "cell_type": "code",
   "execution_count": 65,
   "metadata": {},
   "outputs": [],
   "source": [
    "def eq16_7_isa_density_ratio_at_alt(altitude_ft: float) -> float:\n",
    "    \"\"\"\n",
    "    Returns density ratio against reference altitude on a standard day using the UK system\n",
    "    \"\"\"\n",
    "    return (1 + LAPSE_RATE_FT * altitude_ft) ** 4.2561\n",
    "\n",
    "assert round(eq16_7_isa_density_ratio_at_alt(8500), 4) == 0.7739"
   ]
  },
  {
   "attachments": {},
   "cell_type": "markdown",
   "metadata": {},
   "source": [
    "**16.8; Pressure altitude**: $h_p = 145442 \\left[ 1 - \\frac{p}{p_0}^{0.19026} \\right]$"
   ]
  },
  {
   "cell_type": "code",
   "execution_count": null,
   "metadata": {},
   "outputs": [],
   "source": [
    "def eq16_8_pressure_altitude_at_ratio(press_ratio: float) -> float:\n",
    "    \"\"\"\n",
    "    Returns altitude corresponding to the given pressure ratio using the UK system\n",
    "    \"\"\"\n",
    "    raise NotImplementedError()"
   ]
  },
  {
   "attachments": {},
   "cell_type": "markdown",
   "metadata": {},
   "source": [
    "**16.9; Density altitude**: $h_{\\rho} = 145442 \\left[ 1 - \\frac{\\rho}{\\rho_0}^{0.234957} \\right]$"
   ]
  },
  {
   "attachments": {},
   "cell_type": "markdown",
   "metadata": {},
   "source": [
    "**16.10; Air density deviation from a standard atmosphere (UK)**: $\\rho = \\frac{1.233(1 + k \\cdot h)^{5.2561}}{(T + \\Delta{T_{ISA}})}$\n",
    "\n",
    "UK System"
   ]
  },
  {
   "cell_type": "code",
   "execution_count": 66,
   "metadata": {},
   "outputs": [],
   "source": [
    "def eq16_10_air_density_at_alt_temp(altitude_ft: float, temp_dev_f: float) -> float:\n",
    "    \"\"\"\n",
    "    Returns air density (slugs/ft^3) at altitude on a day warmer or colder than a standard day using the UK system\n",
    "    \"\"\"\n",
    "    altitude_temp = eq16_2_isa_temp_at_alt(altitude_ft)\n",
    "    ratio = 1.233 / (altitude_temp + temp_dev_f)\n",
    "    return ratio * (1 + LAPSE_RATE_FT * altitude_ft) ** 5.2561\n",
    "\n",
    "assert round(eq16_10_air_density_at_alt_temp(8500, -30), 6) == 0.001960  # -30F colder\n",
    "assert round(eq16_10_air_density_at_alt_temp(8500, 30), 6) == 0.001733  # +30F warmer"
   ]
  },
  {
   "attachments": {},
   "cell_type": "markdown",
   "metadata": {},
   "source": [
    "**16.11; Air density deviation from a standard atmosphere (SI)**: $\\rho = \\frac{352.6(1 + k \\cdot h)^{5.2561}}{(T + \\Delta{T_{ISA}})}$\n",
    "\n",
    "SI System"
   ]
  },
  {
   "attachments": {},
   "cell_type": "markdown",
   "metadata": {},
   "source": [
    "**16.12; Changes in air density due to humidity**: $\\rho = \\rho_{std} \\left( \\frac{1 + x}{1 + x R_{H_2O} / R} \\right) = \\rho_{std} \\left( \\frac{1 + x}{1 + 1.609x} \\right)$\n",
    "$\\rho_{std}$ = density at altitude, calculated by standard methods\n",
    "\n",
    "$R$ = specific gas constant for air, table 16.3\n",
    "\n",
    "$R_{H_2O}$ = specific gas constant for water vapour, table 16.3\n",
    "\n",
    "$x$ = humidity ratio in kg water vapour per kg of air, also known as specific humidity\n",
    "\n",
    "**16.13; Ambient temperature in C to humidity ratio**: $x = \\left( \\frac{RH}{100} \\right) 0.003878 \\cdot e^{0.0656 \\cdot (T_C)}$\n",
    "\n",
    "If ambient temperature is in C, you can convert into a humidity ratio."
   ]
  },
  {
   "cell_type": "code",
   "execution_count": 76,
   "metadata": {},
   "outputs": [],
   "source": [
    "def eq16_13_specific_humidity(temp_c: float, rel_humidity: float) -> float:\n",
    "    \"\"\"\n",
    "    Returns specific humidity ratio for a standard day at sae level\n",
    "    \"\"\"\n",
    "    if rel_humidity > 1.0:\n",
    "        rel_humidity = rel_humidity / 100\n",
    "\n",
    "    return (rel_humidity * 0.003878) * math.exp(0.0656 * temp_c)\n",
    "\n",
    "# 15C outside air temperature at 50% humidity\n",
    "assert round(eq16_13_specific_humidity(15, 0.5), 5) == 0.00519\n",
    "assert round(eq16_13_specific_humidity(15, 50.0), 5) == 0.00519\n",
    "\n",
    "WATER_VAPOUR_GAS_CONSTANT = 1.609  # R_{H_2O}\n",
    "\n",
    "def eq16_12_sea_level_air_density_at_temp_humidity(outside_temp_c: float, rel_humidity: float) -> float:\n",
    "    \"\"\"\n",
    "    Returns air density (slugs/ft^3) on a standard day with outside temperature (C) and relative humidity (%) using the UK system\n",
    "    \"\"\"\n",
    "    specific_humidity = eq16_13_specific_humidity(outside_temp_c, rel_humidity)\n",
    "    return REFERENCE_SEA_LEVEL_DENSITY_SLUGS_FT3 * ( (1+specific_humidity) / (1 + WATER_VAPOUR_GAS_CONSTANT * specific_humidity) )\n",
    "\n",
    "assert round(eq16_12_sea_level_air_density_at_temp_humidity(15, 0.5), 6) == 0.002371"
   ]
  },
  {
   "attachments": {},
   "cell_type": "markdown",
   "metadata": {},
   "source": [
    "### Table 16.2; Common Temperature Constants in the Troposphere\n",
    "||Symbol|UK|SI|\n",
    "|:--|:--:|:--:|:--:|\n",
    "|Reference altitude|$H$ or $h$|ft|m or km|\n",
    "|Reference temperature|$T_0$|$518.67 \\degree{R}$|$273.15K$|\n",
    "|Lapse rate|$a$|$-0.00356616 \\degree{R}/ft$|$-0.0065 K/m$|\n",
    "|Lapse rate constant|$k$|$-0.0000068756/ft$|$-0.000022558/m$\n",
    "\n",
    "Lapse rate is the rate at which air cools or warms depending on the moisure content.\n",
    "- If the air is dry: $1 \\degree{C} / 100$ meters (DAR: Dry Adiabatic Rate)\n",
    "- If the air is saturated: $0.6 \\degree{C} / 100$ meters (SAR: Saturated Adiabatic Rate)\n",
    "\n",
    "$T$ is outside air temperature, or ambient air temperature.\n",
    "\n",
    "### Table 16.3; Standard Properties of Air at Sea Level (S-L)\n",
    "**Need to check values as reference temperatures do not agree between tables**\n",
    "\n",
    "|Property|Symbol|UK|SI|\n",
    "|:--|:--:|:--|:--|\n",
    "|Specific gas constant for air|$R$|$1716 ft \\cdot lb_f / (slug \\cdot \\degree{R})$|$286.9 m^2 / (K \\cdot s^2)$|\n",
    "|Specific gas constant for water vapour|$R_{H_2O}$|$2760 ft \\cdot lb_f / (slug \\cdot \\degree{R})$|$461.5 m^2 / (K \\cdot s^2)|\n",
    "|Pressure|$P$|$2116.2 lb_f / (slug \\cdot \\degree{R})$|$1.01325 \\times 10^5 N / m^2 (or P_a)$|\n",
    "|||$14.696 lb_f / in^2$|$760 mmH_g$|\n",
    "|||$29.92 inH_g$||\n",
    "|Density|$\\rho$|$0.002378 slugs/ft^3$|$1.225 kg/m^3$|\n",
    "|Temperature|$T$|$518.69 \\degree{R}$|$288.16K$|\n",
    "|||$59.0 \\degree{F}$|15.0 C|\n",
    "|Absolute viscosity|$\\mu$|$3.737 \\times 10^{-7} lb_f \\cdot s/ft^2$|$1.789 \\times 10^{-3} N \\cdot s / m^2$|\n",
    "|Kinematic viscosity|$v$|$1.572 \\times 10^{-4} 1 / (ft^2 \\cdot s)$|$1.460 \\times 10^{-3} 1 / (m^2 \\cdot s)$|\n",
    "|Speed of sound|$a$|$1116.4 ft/s$|$340.3 m/s$|"
   ]
  },
  {
   "cell_type": "code",
   "execution_count": 105,
   "metadata": {},
   "outputs": [
    {
     "data": {
      "text/plain": [
       "Atmosphere(temp_ratio=0.9415574, press_ratio=0.7286788606898387, density_ratio=0.7739080598695721, temperature=488.35757665799997, pressure=1541.8844692196985, density=0.0018403533663698423)"
      ]
     },
     "execution_count": 105,
     "metadata": {},
     "output_type": "execute_result"
    }
   ],
   "source": [
    "ATMOSPHERE_LIMITS = {\n",
    "    \"Troposphere\": 36_089,\n",
    "    \"Lower Stratosphere\": 65_671,\n",
    "    \"Middle Stratosphere\": 104_987, \n",
    "    \"Upper Stratosphere\": 154_199, \n",
    "    \"Stratopause\": 167_323,\n",
    "    \"Lower Mesophere\": 232_940,\n",
    "    \"Upper Mesophere\": 278_386,\n",
    "}\n",
    "\n",
    "@dataclass\n",
    "class Atmosphere:\n",
    "    temp_ratio: float\n",
    "    press_ratio: float\n",
    "    density_ratio: float\n",
    "    temperature: float\n",
    "    pressure: float\n",
    "    density: float\n",
    "\n",
    "def atmos_property(altitude_ft: float) -> tuple:\n",
    "    R = 0.0\n",
    "    temp_ratio = 0.0\n",
    "    press_ratio = 0.0\n",
    "    density_ratio = 0.0\n",
    "\n",
    "    # math.exp(x) is the same as e^x (e is Euler's number)\n",
    "\n",
    "    if altitude_ft < ATMOSPHERE_LIMITS[\"Troposphere\"]:\n",
    "        R = (1 + LAPSE_RATE_FT * altitude_ft)\n",
    "        temp_ratio = R\n",
    "        press_ratio = R ** 5.2561\n",
    "        density_ratio = R ** 4.2561\n",
    "    elif altitude_ft >= ATMOSPHERE_LIMITS[\"Troposphere\"] and altitude_ft < ATMOSPHERE_LIMITS[\"Lower Stratosphere\"]:\n",
    "        R = ((altitude_ft - ATMOSPHERE_LIMITS[\"Troposphere\"]) * -1.0) / 20_806\n",
    "        temp_ratio = 0.751865\n",
    "        press_ratio = 0.223361 * math.exp(R)\n",
    "        density_ratio = 0.297176 * math.exp(R)\n",
    "    elif altitude_ft >= ATMOSPHERE_LIMITS[\"Lower Stratosphere\"] and altitude_ft < ATMOSPHERE_LIMITS[\"Middle Stratosphere\"]:\n",
    "        temp_ratio = 0.682457 + altitude_ft / 945_374\n",
    "        press_ratio = (0.988626 + altitude_ft / 652_600) ** -34.1632\n",
    "        density_ratio = (0.978261 + altitude_ft / 659_515) ** -35.1632\n",
    "    elif altitude_ft >= ATMOSPHERE_LIMITS[\"Middle Stratosphere\"] and altitude_ft < ATMOSPHERE_LIMITS[\"Upper Stratosphere\"]:\n",
    "        temp_ratio = (0.482561 + altitude_ft) / 337_634\n",
    "        press_ratio = (0.898309 + altitude_ft / 181_373) ** -12.20114\n",
    "        density_ratio = (0.857003 + altitude_ft / 190_115) ** -13.20114\n",
    "    elif altitude_ft >= ATMOSPHERE_LIMITS[\"Upper Stratosphere\"] and altitude_ft < ATMOSPHERE_LIMITS[\"Stratopause\"]:\n",
    "        R = ((altitude_ft - ATMOSPHERE_LIMITS[\"Upper Stratosphere\"]) * -1) / 25_992\n",
    "        temp_ratio = 0.939268\n",
    "        press_ratio = 0.00109456 ** math.exp(R)\n",
    "        density_ratio = 0.00116533 ** math.exp(R)\n",
    "    elif altitude_ft >= ATMOSPHERE_LIMITS[\"Stratopause\"] and altitude_ft < ATMOSPHERE_LIMITS[\"Lower Mesophere\"]:\n",
    "        temp_ratio = 1.434843 - altitude_ft / 337_634\n",
    "        press_ratio = (0.838263 - altitude_ft / 577_922) ** 12.20114\n",
    "        density_ratio = (0.79899 - altitude_ft / 606_330) ** 11.20114\n",
    "    elif altitude_ft >= ATMOSPHERE_LIMITS[\"Lower Mesophere\"] and altitude_ft < ATMOSPHERE_LIMITS[\"Upper Mesophere\"]:\n",
    "        temp_ratio = 1.237723 - altitude_ft / 472_687\n",
    "        press_ratio = (0.917131 - altitude_ft / 637_919) ** 17.0816\n",
    "        density_ratio = (0.900194 - altitude_ft / 649_922) ** 16.0816\n",
    "    else:\n",
    "        raise ValueError(\"altitude_ft not within known bounds (0-278,386ft)\")\n",
    "\n",
    "    temp_degR = temp_ratio * REFERENCE_TEMP_degR\n",
    "    press_slugft = press_ratio * REFERENCE_SEA_LEVEL_PRESSURE_SQFT\n",
    "    density_slugft = density_ratio * REFERENCE_SEA_LEVEL_DENSITY_SLUGS_FT3\n",
    "\n",
    "    # temperature ratio, pressure ratio, density ratio, temperature, pressure, density\n",
    "    return Atmosphere(temp_ratio, press_ratio, density_ratio, temp_degR, press_slugft, density_slugft)\n",
    "\n",
    "atmos_property(8500)"
   ]
  },
  {
   "cell_type": "code",
   "execution_count": 98,
   "metadata": {},
   "outputs": [
    {
     "data": {
      "text/plain": [
       "Atmosphere(temp_ratio=1.0, press_ratio=1.0, density_ratio=1.0, temperature=518.67, pressure=2116.0, density=0.002378)"
      ]
     },
     "execution_count": 98,
     "metadata": {},
     "output_type": "execute_result"
    }
   ],
   "source": [
    "atmos_property(0)"
   ]
  },
  {
   "cell_type": "code",
   "execution_count": 110,
   "metadata": {},
   "outputs": [
    {
     "data": {
      "application/vnd.plotly.v1+json": {
       "config": {
        "plotlyServerURL": "https://plot.ly"
       },
       "data": [
        {
         "hovertemplate": "density=%{x}<br>altitude=%{y}<extra></extra>",
         "legendgroup": "",
         "line": {
          "color": "#636efa",
          "dash": "solid"
         },
         "marker": {
          "symbol": "circle"
         },
         "mode": "lines",
         "name": "",
         "orientation": "v",
         "showlegend": false,
         "type": "scatter",
         "x": [
          0.002378,
          0.0017560745944146475,
          0.0012669820284852995,
          0.0008896391610862132,
          0.0005855840536253092,
          0.0003621212657953596,
          0.00022393337101549423,
          0.00013767076244061694,
          0.00008448719691124555,
          0.000052196847635070565,
          0.00003245812004449059,
          0.000020099749188735957,
          0.000012499314956165017,
          0.000007902206291601489,
          0.000005073362091583822
         ],
         "xaxis": "x",
         "y": [
          0,
          10000,
          20000,
          30000,
          40000,
          50000,
          60000,
          70000,
          80000,
          90000,
          100000,
          110000,
          120000,
          130000,
          140000
         ],
         "yaxis": "y"
        }
       ],
       "layout": {
        "legend": {
         "tracegroupgap": 0
        },
        "template": {
         "data": {
          "bar": [
           {
            "error_x": {
             "color": "#2a3f5f"
            },
            "error_y": {
             "color": "#2a3f5f"
            },
            "marker": {
             "line": {
              "color": "#E5ECF6",
              "width": 0.5
             },
             "pattern": {
              "fillmode": "overlay",
              "size": 10,
              "solidity": 0.2
             }
            },
            "type": "bar"
           }
          ],
          "barpolar": [
           {
            "marker": {
             "line": {
              "color": "#E5ECF6",
              "width": 0.5
             },
             "pattern": {
              "fillmode": "overlay",
              "size": 10,
              "solidity": 0.2
             }
            },
            "type": "barpolar"
           }
          ],
          "carpet": [
           {
            "aaxis": {
             "endlinecolor": "#2a3f5f",
             "gridcolor": "white",
             "linecolor": "white",
             "minorgridcolor": "white",
             "startlinecolor": "#2a3f5f"
            },
            "baxis": {
             "endlinecolor": "#2a3f5f",
             "gridcolor": "white",
             "linecolor": "white",
             "minorgridcolor": "white",
             "startlinecolor": "#2a3f5f"
            },
            "type": "carpet"
           }
          ],
          "choropleth": [
           {
            "colorbar": {
             "outlinewidth": 0,
             "ticks": ""
            },
            "type": "choropleth"
           }
          ],
          "contour": [
           {
            "colorbar": {
             "outlinewidth": 0,
             "ticks": ""
            },
            "colorscale": [
             [
              0,
              "#0d0887"
             ],
             [
              0.1111111111111111,
              "#46039f"
             ],
             [
              0.2222222222222222,
              "#7201a8"
             ],
             [
              0.3333333333333333,
              "#9c179e"
             ],
             [
              0.4444444444444444,
              "#bd3786"
             ],
             [
              0.5555555555555556,
              "#d8576b"
             ],
             [
              0.6666666666666666,
              "#ed7953"
             ],
             [
              0.7777777777777778,
              "#fb9f3a"
             ],
             [
              0.8888888888888888,
              "#fdca26"
             ],
             [
              1,
              "#f0f921"
             ]
            ],
            "type": "contour"
           }
          ],
          "contourcarpet": [
           {
            "colorbar": {
             "outlinewidth": 0,
             "ticks": ""
            },
            "type": "contourcarpet"
           }
          ],
          "heatmap": [
           {
            "colorbar": {
             "outlinewidth": 0,
             "ticks": ""
            },
            "colorscale": [
             [
              0,
              "#0d0887"
             ],
             [
              0.1111111111111111,
              "#46039f"
             ],
             [
              0.2222222222222222,
              "#7201a8"
             ],
             [
              0.3333333333333333,
              "#9c179e"
             ],
             [
              0.4444444444444444,
              "#bd3786"
             ],
             [
              0.5555555555555556,
              "#d8576b"
             ],
             [
              0.6666666666666666,
              "#ed7953"
             ],
             [
              0.7777777777777778,
              "#fb9f3a"
             ],
             [
              0.8888888888888888,
              "#fdca26"
             ],
             [
              1,
              "#f0f921"
             ]
            ],
            "type": "heatmap"
           }
          ],
          "heatmapgl": [
           {
            "colorbar": {
             "outlinewidth": 0,
             "ticks": ""
            },
            "colorscale": [
             [
              0,
              "#0d0887"
             ],
             [
              0.1111111111111111,
              "#46039f"
             ],
             [
              0.2222222222222222,
              "#7201a8"
             ],
             [
              0.3333333333333333,
              "#9c179e"
             ],
             [
              0.4444444444444444,
              "#bd3786"
             ],
             [
              0.5555555555555556,
              "#d8576b"
             ],
             [
              0.6666666666666666,
              "#ed7953"
             ],
             [
              0.7777777777777778,
              "#fb9f3a"
             ],
             [
              0.8888888888888888,
              "#fdca26"
             ],
             [
              1,
              "#f0f921"
             ]
            ],
            "type": "heatmapgl"
           }
          ],
          "histogram": [
           {
            "marker": {
             "pattern": {
              "fillmode": "overlay",
              "size": 10,
              "solidity": 0.2
             }
            },
            "type": "histogram"
           }
          ],
          "histogram2d": [
           {
            "colorbar": {
             "outlinewidth": 0,
             "ticks": ""
            },
            "colorscale": [
             [
              0,
              "#0d0887"
             ],
             [
              0.1111111111111111,
              "#46039f"
             ],
             [
              0.2222222222222222,
              "#7201a8"
             ],
             [
              0.3333333333333333,
              "#9c179e"
             ],
             [
              0.4444444444444444,
              "#bd3786"
             ],
             [
              0.5555555555555556,
              "#d8576b"
             ],
             [
              0.6666666666666666,
              "#ed7953"
             ],
             [
              0.7777777777777778,
              "#fb9f3a"
             ],
             [
              0.8888888888888888,
              "#fdca26"
             ],
             [
              1,
              "#f0f921"
             ]
            ],
            "type": "histogram2d"
           }
          ],
          "histogram2dcontour": [
           {
            "colorbar": {
             "outlinewidth": 0,
             "ticks": ""
            },
            "colorscale": [
             [
              0,
              "#0d0887"
             ],
             [
              0.1111111111111111,
              "#46039f"
             ],
             [
              0.2222222222222222,
              "#7201a8"
             ],
             [
              0.3333333333333333,
              "#9c179e"
             ],
             [
              0.4444444444444444,
              "#bd3786"
             ],
             [
              0.5555555555555556,
              "#d8576b"
             ],
             [
              0.6666666666666666,
              "#ed7953"
             ],
             [
              0.7777777777777778,
              "#fb9f3a"
             ],
             [
              0.8888888888888888,
              "#fdca26"
             ],
             [
              1,
              "#f0f921"
             ]
            ],
            "type": "histogram2dcontour"
           }
          ],
          "mesh3d": [
           {
            "colorbar": {
             "outlinewidth": 0,
             "ticks": ""
            },
            "type": "mesh3d"
           }
          ],
          "parcoords": [
           {
            "line": {
             "colorbar": {
              "outlinewidth": 0,
              "ticks": ""
             }
            },
            "type": "parcoords"
           }
          ],
          "pie": [
           {
            "automargin": true,
            "type": "pie"
           }
          ],
          "scatter": [
           {
            "fillpattern": {
             "fillmode": "overlay",
             "size": 10,
             "solidity": 0.2
            },
            "type": "scatter"
           }
          ],
          "scatter3d": [
           {
            "line": {
             "colorbar": {
              "outlinewidth": 0,
              "ticks": ""
             }
            },
            "marker": {
             "colorbar": {
              "outlinewidth": 0,
              "ticks": ""
             }
            },
            "type": "scatter3d"
           }
          ],
          "scattercarpet": [
           {
            "marker": {
             "colorbar": {
              "outlinewidth": 0,
              "ticks": ""
             }
            },
            "type": "scattercarpet"
           }
          ],
          "scattergeo": [
           {
            "marker": {
             "colorbar": {
              "outlinewidth": 0,
              "ticks": ""
             }
            },
            "type": "scattergeo"
           }
          ],
          "scattergl": [
           {
            "marker": {
             "colorbar": {
              "outlinewidth": 0,
              "ticks": ""
             }
            },
            "type": "scattergl"
           }
          ],
          "scattermapbox": [
           {
            "marker": {
             "colorbar": {
              "outlinewidth": 0,
              "ticks": ""
             }
            },
            "type": "scattermapbox"
           }
          ],
          "scatterpolar": [
           {
            "marker": {
             "colorbar": {
              "outlinewidth": 0,
              "ticks": ""
             }
            },
            "type": "scatterpolar"
           }
          ],
          "scatterpolargl": [
           {
            "marker": {
             "colorbar": {
              "outlinewidth": 0,
              "ticks": ""
             }
            },
            "type": "scatterpolargl"
           }
          ],
          "scatterternary": [
           {
            "marker": {
             "colorbar": {
              "outlinewidth": 0,
              "ticks": ""
             }
            },
            "type": "scatterternary"
           }
          ],
          "surface": [
           {
            "colorbar": {
             "outlinewidth": 0,
             "ticks": ""
            },
            "colorscale": [
             [
              0,
              "#0d0887"
             ],
             [
              0.1111111111111111,
              "#46039f"
             ],
             [
              0.2222222222222222,
              "#7201a8"
             ],
             [
              0.3333333333333333,
              "#9c179e"
             ],
             [
              0.4444444444444444,
              "#bd3786"
             ],
             [
              0.5555555555555556,
              "#d8576b"
             ],
             [
              0.6666666666666666,
              "#ed7953"
             ],
             [
              0.7777777777777778,
              "#fb9f3a"
             ],
             [
              0.8888888888888888,
              "#fdca26"
             ],
             [
              1,
              "#f0f921"
             ]
            ],
            "type": "surface"
           }
          ],
          "table": [
           {
            "cells": {
             "fill": {
              "color": "#EBF0F8"
             },
             "line": {
              "color": "white"
             }
            },
            "header": {
             "fill": {
              "color": "#C8D4E3"
             },
             "line": {
              "color": "white"
             }
            },
            "type": "table"
           }
          ]
         },
         "layout": {
          "annotationdefaults": {
           "arrowcolor": "#2a3f5f",
           "arrowhead": 0,
           "arrowwidth": 1
          },
          "autotypenumbers": "strict",
          "coloraxis": {
           "colorbar": {
            "outlinewidth": 0,
            "ticks": ""
           }
          },
          "colorscale": {
           "diverging": [
            [
             0,
             "#8e0152"
            ],
            [
             0.1,
             "#c51b7d"
            ],
            [
             0.2,
             "#de77ae"
            ],
            [
             0.3,
             "#f1b6da"
            ],
            [
             0.4,
             "#fde0ef"
            ],
            [
             0.5,
             "#f7f7f7"
            ],
            [
             0.6,
             "#e6f5d0"
            ],
            [
             0.7,
             "#b8e186"
            ],
            [
             0.8,
             "#7fbc41"
            ],
            [
             0.9,
             "#4d9221"
            ],
            [
             1,
             "#276419"
            ]
           ],
           "sequential": [
            [
             0,
             "#0d0887"
            ],
            [
             0.1111111111111111,
             "#46039f"
            ],
            [
             0.2222222222222222,
             "#7201a8"
            ],
            [
             0.3333333333333333,
             "#9c179e"
            ],
            [
             0.4444444444444444,
             "#bd3786"
            ],
            [
             0.5555555555555556,
             "#d8576b"
            ],
            [
             0.6666666666666666,
             "#ed7953"
            ],
            [
             0.7777777777777778,
             "#fb9f3a"
            ],
            [
             0.8888888888888888,
             "#fdca26"
            ],
            [
             1,
             "#f0f921"
            ]
           ],
           "sequentialminus": [
            [
             0,
             "#0d0887"
            ],
            [
             0.1111111111111111,
             "#46039f"
            ],
            [
             0.2222222222222222,
             "#7201a8"
            ],
            [
             0.3333333333333333,
             "#9c179e"
            ],
            [
             0.4444444444444444,
             "#bd3786"
            ],
            [
             0.5555555555555556,
             "#d8576b"
            ],
            [
             0.6666666666666666,
             "#ed7953"
            ],
            [
             0.7777777777777778,
             "#fb9f3a"
            ],
            [
             0.8888888888888888,
             "#fdca26"
            ],
            [
             1,
             "#f0f921"
            ]
           ]
          },
          "colorway": [
           "#636efa",
           "#EF553B",
           "#00cc96",
           "#ab63fa",
           "#FFA15A",
           "#19d3f3",
           "#FF6692",
           "#B6E880",
           "#FF97FF",
           "#FECB52"
          ],
          "font": {
           "color": "#2a3f5f"
          },
          "geo": {
           "bgcolor": "white",
           "lakecolor": "white",
           "landcolor": "#E5ECF6",
           "showlakes": true,
           "showland": true,
           "subunitcolor": "white"
          },
          "hoverlabel": {
           "align": "left"
          },
          "hovermode": "closest",
          "mapbox": {
           "style": "light"
          },
          "paper_bgcolor": "white",
          "plot_bgcolor": "#E5ECF6",
          "polar": {
           "angularaxis": {
            "gridcolor": "white",
            "linecolor": "white",
            "ticks": ""
           },
           "bgcolor": "#E5ECF6",
           "radialaxis": {
            "gridcolor": "white",
            "linecolor": "white",
            "ticks": ""
           }
          },
          "scene": {
           "xaxis": {
            "backgroundcolor": "#E5ECF6",
            "gridcolor": "white",
            "gridwidth": 2,
            "linecolor": "white",
            "showbackground": true,
            "ticks": "",
            "zerolinecolor": "white"
           },
           "yaxis": {
            "backgroundcolor": "#E5ECF6",
            "gridcolor": "white",
            "gridwidth": 2,
            "linecolor": "white",
            "showbackground": true,
            "ticks": "",
            "zerolinecolor": "white"
           },
           "zaxis": {
            "backgroundcolor": "#E5ECF6",
            "gridcolor": "white",
            "gridwidth": 2,
            "linecolor": "white",
            "showbackground": true,
            "ticks": "",
            "zerolinecolor": "white"
           }
          },
          "shapedefaults": {
           "line": {
            "color": "#2a3f5f"
           }
          },
          "ternary": {
           "aaxis": {
            "gridcolor": "white",
            "linecolor": "white",
            "ticks": ""
           },
           "baxis": {
            "gridcolor": "white",
            "linecolor": "white",
            "ticks": ""
           },
           "bgcolor": "#E5ECF6",
           "caxis": {
            "gridcolor": "white",
            "linecolor": "white",
            "ticks": ""
           }
          },
          "title": {
           "x": 0.05
          },
          "xaxis": {
           "automargin": true,
           "gridcolor": "white",
           "linecolor": "white",
           "ticks": "",
           "title": {
            "standoff": 15
           },
           "zerolinecolor": "white",
           "zerolinewidth": 2
          },
          "yaxis": {
           "automargin": true,
           "gridcolor": "white",
           "linecolor": "white",
           "ticks": "",
           "title": {
            "standoff": 15
           },
           "zerolinecolor": "white",
           "zerolinewidth": 2
          }
         }
        },
        "title": {
         "text": "Atmospheric Density versus Altitude"
        },
        "xaxis": {
         "anchor": "y",
         "domain": [
          0,
          1
         ],
         "title": {
          "text": "density"
         }
        },
        "yaxis": {
         "anchor": "x",
         "domain": [
          0,
          1
         ],
         "title": {
          "text": "altitude"
         }
        }
       }
      }
     },
     "metadata": {},
     "output_type": "display_data"
    }
   ],
   "source": [
    "import plotly.express as px\n",
    "import plotly.graph_objects as go\n",
    "import pandas as pd\n",
    "\n",
    "def plot_density() -> go.Figure:\n",
    "    df = pd.DataFrame([\n",
    "        {\"altitude\": x, \"density\": atmos_property(x).density}\n",
    "        for x in range(0, 150_000, 10_000)]\n",
    "    )\n",
    "    fig = px.line(df, x=\"density\", y=\"altitude\", title=\"Atmospheric Density versus Altitude\")\n",
    "\n",
    "    return fig\n",
    "\n",
    "plot_density().show()"
   ]
  },
  {
   "cell_type": "code",
   "execution_count": null,
   "metadata": {},
   "outputs": [],
   "source": []
  }
 ],
 "metadata": {
  "kernelspec": {
   "display_name": "adrpy",
   "language": "python",
   "name": "python3"
  },
  "language_info": {
   "codemirror_mode": {
    "name": "ipython",
    "version": 3
   },
   "file_extension": ".py",
   "mimetype": "text/x-python",
   "name": "python",
   "nbconvert_exporter": "python",
   "pygments_lexer": "ipython3",
   "version": "3.8.13 (default, Jan 14 2023, 10:37:51) \n[GCC 9.4.0]"
  },
  "orig_nbformat": 4,
  "vscode": {
   "interpreter": {
    "hash": "074d382b65cc44febf9c9cb0615629eb99b389701fd8826f9b9435a41f8f948c"
   }
  }
 },
 "nbformat": 4,
 "nbformat_minor": 2
}
