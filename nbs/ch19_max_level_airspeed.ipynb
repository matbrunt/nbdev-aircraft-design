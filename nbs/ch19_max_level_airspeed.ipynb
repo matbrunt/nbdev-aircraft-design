{
 "cells": [
  {
   "cell_type": "code",
   "execution_count": 1,
   "metadata": {},
   "outputs": [
    {
     "data": {
      "text/plain": [
       "Atmosphere(temp_ratio=0.9415574, press_ratio=0.7286788606898387, density_ratio=0.7739080598695721, temperature=488.35757665799997, pressure=1541.8844692196985, density=0.0018403533663698423)"
      ]
     },
     "execution_count": 1,
     "metadata": {},
     "output_type": "execute_result"
    }
   ],
   "source": [
    "from dataclasses import dataclass\n",
    "import math\n",
    "\n",
    "LAPSE_RATE_FT = -0.0000068756  # ratio R per foot $/ft$\n",
    "\n",
    "REFERENCE_TEMP_degR = 518.67  # $\\degree{R}$\n",
    "REFERENCE_SEA_LEVEL_PRESSURE_SQFT = 2116\n",
    "REFERENCE_SEA_LEVEL_DENSITY_SLUGS_FT3 = 0.002378\n",
    "\n",
    "ATMOSPHERE_LIMITS = {\n",
    "    \"Troposphere\": 36_089,\n",
    "    \"Lower Stratosphere\": 65_671,\n",
    "    \"Middle Stratosphere\": 104_987, \n",
    "    \"Upper Stratosphere\": 154_199, \n",
    "    \"Stratopause\": 167_323,\n",
    "    \"Lower Mesophere\": 232_940,\n",
    "    \"Upper Mesophere\": 278_386,\n",
    "}\n",
    "\n",
    "@dataclass\n",
    "class Atmosphere:\n",
    "    temp_ratio: float\n",
    "    press_ratio: float\n",
    "    density_ratio: float\n",
    "    temperature: float\n",
    "    pressure: float\n",
    "    density: float\n",
    "\n",
    "def atmos_property(altitude_ft: float) -> tuple:\n",
    "    R = 0.0\n",
    "    temp_ratio = 0.0\n",
    "    press_ratio = 0.0\n",
    "    density_ratio = 0.0\n",
    "\n",
    "    # math.exp(x) is the same as e^x (e is Euler's number)\n",
    "\n",
    "    if altitude_ft < ATMOSPHERE_LIMITS[\"Troposphere\"]:\n",
    "        R = (1 + LAPSE_RATE_FT * altitude_ft)\n",
    "        temp_ratio = R\n",
    "        press_ratio = R ** 5.2561\n",
    "        density_ratio = R ** 4.2561\n",
    "    elif altitude_ft >= ATMOSPHERE_LIMITS[\"Troposphere\"] and altitude_ft < ATMOSPHERE_LIMITS[\"Lower Stratosphere\"]:\n",
    "        R = ((altitude_ft - ATMOSPHERE_LIMITS[\"Troposphere\"]) * -1.0) / 20_806\n",
    "        temp_ratio = 0.751865\n",
    "        press_ratio = 0.223361 * math.exp(R)\n",
    "        density_ratio = 0.297176 * math.exp(R)\n",
    "    elif altitude_ft >= ATMOSPHERE_LIMITS[\"Lower Stratosphere\"] and altitude_ft < ATMOSPHERE_LIMITS[\"Middle Stratosphere\"]:\n",
    "        temp_ratio = 0.682457 + altitude_ft / 945_374\n",
    "        press_ratio = (0.988626 + altitude_ft / 652_600) ** -34.1632\n",
    "        density_ratio = (0.978261 + altitude_ft / 659_515) ** -35.1632\n",
    "    elif altitude_ft >= ATMOSPHERE_LIMITS[\"Middle Stratosphere\"] and altitude_ft < ATMOSPHERE_LIMITS[\"Upper Stratosphere\"]:\n",
    "        temp_ratio = (0.482561 + altitude_ft) / 337_634\n",
    "        press_ratio = (0.898309 + altitude_ft / 181_373) ** -12.20114\n",
    "        density_ratio = (0.857003 + altitude_ft / 190_115) ** -13.20114\n",
    "    elif altitude_ft >= ATMOSPHERE_LIMITS[\"Upper Stratosphere\"] and altitude_ft < ATMOSPHERE_LIMITS[\"Stratopause\"]:\n",
    "        R = ((altitude_ft - ATMOSPHERE_LIMITS[\"Upper Stratosphere\"]) * -1) / 25_992\n",
    "        temp_ratio = 0.939268\n",
    "        press_ratio = 0.00109456 ** math.exp(R)\n",
    "        density_ratio = 0.00116533 ** math.exp(R)\n",
    "    elif altitude_ft >= ATMOSPHERE_LIMITS[\"Stratopause\"] and altitude_ft < ATMOSPHERE_LIMITS[\"Lower Mesophere\"]:\n",
    "        temp_ratio = 1.434843 - altitude_ft / 337_634\n",
    "        press_ratio = (0.838263 - altitude_ft / 577_922) ** 12.20114\n",
    "        density_ratio = (0.79899 - altitude_ft / 606_330) ** 11.20114\n",
    "    elif altitude_ft >= ATMOSPHERE_LIMITS[\"Lower Mesophere\"] and altitude_ft < ATMOSPHERE_LIMITS[\"Upper Mesophere\"]:\n",
    "        temp_ratio = 1.237723 - altitude_ft / 472_687\n",
    "        press_ratio = (0.917131 - altitude_ft / 637_919) ** 17.0816\n",
    "        density_ratio = (0.900194 - altitude_ft / 649_922) ** 16.0816\n",
    "    else:\n",
    "        raise ValueError(\"altitude_ft not within known bounds (0-278,386ft)\")\n",
    "\n",
    "    temp_degR = temp_ratio * REFERENCE_TEMP_degR\n",
    "    press_slugft = press_ratio * REFERENCE_SEA_LEVEL_PRESSURE_SQFT\n",
    "    density_slugft = density_ratio * REFERENCE_SEA_LEVEL_DENSITY_SLUGS_FT3\n",
    "\n",
    "    # temperature ratio, pressure ratio, density ratio, temperature, pressure, density\n",
    "    return Atmosphere(temp_ratio, press_ratio, density_ratio, temp_degR, press_slugft, density_slugft)\n",
    "\n",
    "atmos_property(8500)"
   ]
  },
  {
   "cell_type": "code",
   "execution_count": 4,
   "metadata": {},
   "outputs": [
    {
     "data": {
      "text/plain": [
       "'p_s_cd_min=0.005692231314'"
      ]
     },
     "metadata": {},
     "output_type": "display_data"
    },
    {
     "data": {
      "text/plain": [
       "'propeller_power=79708.75'"
      ]
     },
     "metadata": {},
     "output_type": "display_data"
    },
    {
     "data": {
      "text/plain": [
       "'weight_drag=3555894.10176'"
      ]
     },
     "metadata": {},
     "output_type": "display_data"
    },
    {
     "data": {
      "text/plain": [
       "499.9999701976776"
      ]
     },
     "execution_count": 4,
     "metadata": {},
     "output_type": "execute_result"
    }
   ],
   "source": [
    "def eq19_2_14_max_level_airspeed_prop(\n",
    "    s: float, k: float, cd_min: float, w: float, h: float, bhp: float, eta: float\n",
    ") -> float:\n",
    "    \"\"\"\n",
    "    Determines maximum speed of a propeller powered aircraft.\n",
    "    Solves equation 19.27 using the Bisection method.\n",
    "\n",
    "    s: wing area, ft^2\n",
    "    k: lift-induced drag constant\n",
    "    cd_min: minimum drag coefficient\n",
    "    w: weight, lbf\n",
    "    h: altitude, ft\n",
    "    bhp: piston engine power in BHP\n",
    "    eta: propeller efficiency\n",
    "\n",
    "    Returns: airspeed in ft/s\n",
    "    \"\"\"\n",
    "\n",
    "    # could be replaced with equation 16.18\n",
    "    rho = atmos_property(h).density\n",
    "\n",
    "    v0 = 0\n",
    "    v1 = 500\n",
    "    f0 = -1100 * eta * bhp\n",
    "\n",
    "    v_mid = 0.0\n",
    "    f_mid = 0.0\n",
    "\n",
    "    for _ in range(100):\n",
    "        # compute midpoint values\n",
    "        v_mid = 0.5 * (v0 + v1)\n",
    "        f_mid = eq19_27_f_of_v(rho, s, cd_min, k, w, bhp, eta, v_mid)\n",
    "\n",
    "        if f0 * f_mid < 0:\n",
    "            v1 = v_mid\n",
    "        else:\n",
    "            v0 = v_mid\n",
    "            f0 = v_mid\n",
    "        \n",
    "        # evaluate difference and adjust vini for next iteration\n",
    "        if abs(v1 - v0) < 0.0001:\n",
    "            flag = 0\n",
    "            return 0.5 * (v0 + v1)\n",
    "\n",
    "    return -1\n",
    "\n",
    "\n",
    "def eq19_27_f_of_v(rho: float, s: float, cd_min: float, k: float, w: float, bhp: float, eta: float, v: float) -> float:\n",
    "    \"\"\"\n",
    "    Calculates the value of equation 19.27\n",
    "    \"\"\"\n",
    "    k1 = math.pow(550 * eta * bhp, 2) - math.pow(2 * w * v, 2) * cd_min * k\n",
    "\n",
    "    # this is a trick to ensure the routine can solve to higher altitudes\n",
    "    if k1 < 0:\n",
    "        k1 = 0\n",
    "\n",
    "    # calcuate the value of equation 19.27\n",
    "    return (rho * s * cd_min * math.pow(v, 3) - 550 * eta * bhp) - math.sqrt(k1)\n",
    "\n",
    "def test_example_19_10():\n",
    "    weight = 3400 # lbs\n",
    "    altitude = 14_000 # ft\n",
    "    power_set = 0.55 # 55% power\n",
    "    cruising_speed = 169 # KTAS at 14,000 ft with 55% power\n",
    "    cd_min = 0.02541 # example 15.18\n",
    "    oswald_efficiency = 0.7566 # example 15.18\n",
    "    wing_area = 144.9 # ft^2\n",
    "    density = 0.001546 # slugs/ft^3 at 14,000 ft\n",
    "    eta = 0.85 # propeller efficiency\n",
    "    bhp = 310 # bhp max-rated sea-level power\n",
    "\n",
    "    # $p S C_{Dmin}$\n",
    "    p_s_cd_min = density * wing_area * cd_min\n",
    "    display(f\"{p_s_cd_min=}\")\n",
    "\n",
    "    # $$550 n_p P_{BHP}$\n",
    "    propeller_power = 550 * eta * (power_set * bhp)\n",
    "    display(f\"{propeller_power=}\")\n",
    "\n",
    "    weight_drag = math.pow(4 * weight, 2) * cd_min * oswald_efficiency\n",
    "    display(f\"{weight_drag=}\")\n",
    "\n",
    "    # the cruising speed at 55%\n",
    "    v_max = eq19_2_14_max_level_airspeed_prop(\n",
    "        wing_area,\n",
    "        oswald_efficiency,\n",
    "        cd_min,\n",
    "        weight,\n",
    "        altitude,\n",
    "        bhp,\n",
    "        eta,\n",
    "    )\n",
    "    return v_max\n",
    "\n",
    "    # 283.4 ft/s, 167.9 KTAS\n",
    "test_example_19_10()"
   ]
  }
 ],
 "metadata": {
  "kernelspec": {
   "display_name": "adrpy",
   "language": "python",
   "name": "python3"
  },
  "language_info": {
   "codemirror_mode": {
    "name": "ipython",
    "version": 3
   },
   "file_extension": ".py",
   "mimetype": "text/x-python",
   "name": "python",
   "nbconvert_exporter": "python",
   "pygments_lexer": "ipython3",
   "version": "3.8.13"
  },
  "orig_nbformat": 4,
  "vscode": {
   "interpreter": {
    "hash": "074d382b65cc44febf9c9cb0615629eb99b389701fd8826f9b9435a41f8f948c"
   }
  }
 },
 "nbformat": 4,
 "nbformat_minor": 2
}
